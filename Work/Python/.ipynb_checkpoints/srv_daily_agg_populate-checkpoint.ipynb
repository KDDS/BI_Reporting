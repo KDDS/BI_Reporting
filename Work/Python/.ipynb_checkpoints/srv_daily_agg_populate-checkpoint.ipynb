{
 "cells": [
  {
   "cell_type": "code",
   "execution_count": 1,
   "metadata": {},
   "outputs": [
    {
     "ename": "DatabaseError",
     "evalue": "ORA-06550: line 1, column 7:\nPLS-00306: wrong number or types of arguments in call to 'PR_POPULATE_DAILY_NOBEL_DATA'\nORA-06550: line 1, column 7:\nPL/SQL: Statement ignored",
     "output_type": "error",
     "traceback": [
      "\u001b[1;31m---------------------------------------------------------------------------\u001b[0m",
      "\u001b[1;31mDatabaseError\u001b[0m                             Traceback (most recent call last)",
      "\u001b[1;32m<ipython-input-1-bf62cb4bfadd>\u001b[0m in \u001b[0;36m<module>\u001b[1;34m\u001b[0m\n\u001b[0;32m     22\u001b[0m \u001b[1;33m\u001b[0m\u001b[0m\n\u001b[0;32m     23\u001b[0m \u001b[1;32mfor\u001b[0m \u001b[0mi\u001b[0m \u001b[1;32min\u001b[0m \u001b[0mreversed\u001b[0m\u001b[1;33m(\u001b[0m\u001b[0mrange\u001b[0m\u001b[1;33m(\u001b[0m\u001b[1;36m1\u001b[0m\u001b[1;33m,\u001b[0m\u001b[1;36m8\u001b[0m\u001b[1;33m)\u001b[0m\u001b[1;33m)\u001b[0m\u001b[1;33m:\u001b[0m\u001b[1;33m\u001b[0m\u001b[1;33m\u001b[0m\u001b[0m\n\u001b[1;32m---> 24\u001b[1;33m     \u001b[0mcursor\u001b[0m\u001b[1;33m.\u001b[0m\u001b[0mcallproc\u001b[0m\u001b[1;33m(\u001b[0m\u001b[1;34m\"PR_POPULATE_DAILY_NOBEL_DATA\"\u001b[0m\u001b[1;33m,\u001b[0m\u001b[1;33m[\u001b[0m\u001b[0mi\u001b[0m\u001b[1;33m]\u001b[0m\u001b[1;33m)\u001b[0m\u001b[1;33m\u001b[0m\u001b[1;33m\u001b[0m\u001b[0m\n\u001b[0m\u001b[0;32m     25\u001b[0m     \u001b[0mcursor\u001b[0m\u001b[1;33m.\u001b[0m\u001b[0mcallproc\u001b[0m\u001b[1;33m(\u001b[0m\u001b[1;34m\"PR_POPULATE_WEEKLY_NOBEL_DATA\"\u001b[0m\u001b[1;33m)\u001b[0m\u001b[1;33m\u001b[0m\u001b[1;33m\u001b[0m\u001b[0m\n\u001b[0;32m     26\u001b[0m     \u001b[0mcursor\u001b[0m\u001b[1;33m.\u001b[0m\u001b[0mcallproc\u001b[0m\u001b[1;33m(\u001b[0m\u001b[1;34m\"PR_POPULATE_DAILY_FACT\"\u001b[0m\u001b[1;33m)\u001b[0m\u001b[1;33m\u001b[0m\u001b[1;33m\u001b[0m\u001b[0m\n",
      "\u001b[1;31mDatabaseError\u001b[0m: ORA-06550: line 1, column 7:\nPLS-00306: wrong number or types of arguments in call to 'PR_POPULATE_DAILY_NOBEL_DATA'\nORA-06550: line 1, column 7:\nPL/SQL: Statement ignored"
     ]
    }
   ],
   "source": [
    "\"\"\"\n",
    "Description : triggers oracle package to load the  table daily_noble_data, table daily_noble_data_fact, \n",
    "table daily_noble_data_temp, table staging_noble, table staging_files_read\n",
    "\n",
    "Author : Krishnendu Das\n",
    "\n",
    "Date : 22-01-2019\n",
    "\n",
    "Version : 1.0\n",
    "\n",
    "Html : TBD\n",
    "\"\"\"\n",
    "\n",
    "#importing the libraries\n",
    "import os\n",
    "import re\n",
    "import datetime\n",
    "import cx_Oracle  as ora\n",
    "\n",
    "conn = ora.connect('system/1234@localhost:1521/xe')\n",
    "cursor = conn.cursor()\n",
    "\n",
    "for i in reversed(range(1,8)):\n",
    "    cursor.callproc(\"PR_POPULATE_DAILY_NOBEL_DATA\",[i])\n",
    "    cursor.callproc(\"PR_POPULATE_WEEKLY_NOBEL_DATA\")\n",
    "    cursor.callproc(\"PR_POPULATE_DAILY_FACT\")"
   ]
  },
  {
   "cell_type": "code",
   "execution_count": null,
   "metadata": {},
   "outputs": [],
   "source": []
  }
 ],
 "metadata": {
  "kernelspec": {
   "display_name": "Python 3",
   "language": "python",
   "name": "python3"
  }
 },
 "nbformat": 4,
 "nbformat_minor": 2
}
