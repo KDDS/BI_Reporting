{
 "cells": [
  {
   "cell_type": "code",
   "execution_count": 2,
   "metadata": {},
   "outputs": [],
   "source": [
    "\"\"\"\n",
    "Description : triggers oracle package to load the  table daily_noble_data, table daily_noble_data_fact, \n",
    "table daily_noble_data_temp, table staging_noble, table staging_files_read\n",
    "\n",
    "Author : Krishnendu Das\n",
    "\n",
    "Date : 22-01-2019\n",
    "\n",
    "Version : 1.0\n",
    "\n",
    "Html : TBD\n",
    "\"\"\"\n",
    "\n",
    "#importing the libraries\n",
    "import os\n",
    "import re\n",
    "import datetime\n",
    "import cx_Oracle  as ora\n",
    "\n",
    "conn = ora.connect('system/1234@localhost:1521/xe')\n",
    "cursor = conn.cursor()\n",
    "\n",
    "for i in reversed(range(1,8)):\n",
    "    cursor.callproc(\"PR_POPULATE_DAILY_NOBEL_DATA\",[i])\n",
    "    cursor.callproc(\"PR_POPULATE_WEEKLY_NOBEL_DATA\")\n",
    "    cursor.callproc(\"PR_POPULATE_DAILY_FACT\")"
   ]
  },
  {
   "cell_type": "code",
   "execution_count": null,
   "metadata": {},
   "outputs": [],
   "source": []
  }
 ],
 "metadata": {
  "kernelspec": {
   "display_name": "Python 3",
   "language": "python",
   "name": "python3"
  }
 },
 "nbformat": 4,
 "nbformat_minor": 2
}
