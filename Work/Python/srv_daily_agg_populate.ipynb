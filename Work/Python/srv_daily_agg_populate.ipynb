{
 "cells": [
  {
   "cell_type": "code",
   "execution_count": 12,
   "metadata": {},
   "outputs": [
    {
     "name": "stdout",
     "output_type": "stream",
     "text": [
      "Processed sysdate - 14\n",
      "Processed sysdate - 13\n",
      "Processed sysdate - 12\n",
      "Processed sysdate - 11\n",
      "Processed sysdate - 10\n",
      "Processed sysdate - 9\n",
      "Processed sysdate - 8\n",
      "Processed sysdate - 7\n",
      "Processed sysdate - 6\n",
      "Processed sysdate - 5\n",
      "Processed sysdate - 4\n",
      "Processed sysdate - 3\n",
      "Processed sysdate - 2\n",
      "Processed sysdate - 1\n"
     ]
    }
   ],
   "source": [
    "\"\"\"\n",
    "Description : triggers oracle package to load the  table daily_noble_data, table daily_noble_data_fact, \n",
    "table daily_noble_data_temp, table staging_noble, table staging_files_read\n",
    "\n",
    "Author : Krishnendu Das\n",
    "\n",
    "Date : 22-01-2019\n",
    "\n",
    "Version : 1.0\n",
    "\n",
    "Html : TBD\n",
    "\"\"\"\n",
    "\n",
    "#importing the libraries\n",
    "import os\n",
    "import re\n",
    "import datetime\n",
    "import cx_Oracle  as ora\n",
    "\n",
    "conn = ora.connect('system/1234@localhost:1521/xe')\n",
    "cursor = conn.cursor()\n",
    "\n",
    "# query1\n",
    "querystring1 = \"alter session set nls_date_format = 'mm/dd/yyyy'\"\n",
    "cursor.execute(querystring1)\n",
    "\n",
    "for i in reversed(range(1,15)):\n",
    "    cursor.callproc(\"PR_POPULATE_DAILY_NOBEL_DATA\",[i])\n",
    "    cursor.callproc(\"PR_POPULATE_WEEKLY_NOBEL_DATA\")\n",
    "    cursor.callproc(\"PR_POPULATE_DAILY_FACT\")\n",
    "    print(\"Processed sysdate - \"+ str(i))"
   ]
  },
  {
   "cell_type": "code",
   "execution_count": null,
   "metadata": {},
   "outputs": [],
   "source": []
  }
 ],
 "metadata": {
  "kernelspec": {
   "display_name": "Python 3",
   "language": "python",
   "name": "python3"
  },
  "language_info": {
   "codemirror_mode": {
    "name": "ipython",
    "version": 3
   },
   "file_extension": ".py",
   "mimetype": "text/x-python",
   "name": "python",
   "nbconvert_exporter": "python",
   "pygments_lexer": "ipython3",
   "version": "3.7.1"
  }
 },
 "nbformat": 4,
 "nbformat_minor": 2
}
