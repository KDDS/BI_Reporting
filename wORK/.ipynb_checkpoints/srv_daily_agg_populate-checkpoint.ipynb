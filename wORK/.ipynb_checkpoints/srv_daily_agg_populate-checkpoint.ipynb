{
 "cells": [
  {
   "cell_type": "code",
   "execution_count": 3,
   "metadata": {},
   "outputs": [
    {
     "ename": "SyntaxError",
     "evalue": "invalid syntax (<ipython-input-3-c2788b8a0770>, line 23)",
     "output_type": "error",
     "traceback": [
      "\u001b[1;36m  File \u001b[1;32m\"<ipython-input-3-c2788b8a0770>\"\u001b[1;36m, line \u001b[1;32m23\u001b[0m\n\u001b[1;33m    for i in ([1:7]):\u001b[0m\n\u001b[1;37m                ^\u001b[0m\n\u001b[1;31mSyntaxError\u001b[0m\u001b[1;31m:\u001b[0m invalid syntax\n"
     ]
    }
   ],
   "source": [
    "\"\"\"\n",
    "Description : triggers oracle package to load the  table daily_noble_data, table daily_noble_data_fact, \n",
    "table daily_noble_data_temp, table staging_noble, table staging_files_read\n",
    "\n",
    "Author : Krishnendu Das\n",
    "\n",
    "Date : 22-01-2019\n",
    "\n",
    "Version : 1.0\n",
    "\n",
    "Html : TBD\n",
    "\"\"\"\n",
    "\n",
    "#importing the libraries\n",
    "import os\n",
    "import re\n",
    "import datetime\n",
    "import cx_Oracle  as ora\n",
    "\n",
    "conn = ora.connect('system/1234@localhost:1521/xe')\n",
    "cursor = conn.cursor()\n",
    "\n",
    "for i in reversed(range(1,8)):\n",
    "    cursor.callproc(\"PR_POPULATE_DAILY_NOBEL_DATA\",[i])\n",
    "    cursor.callproc(\"PR_POPULATE_WEEKLY_NOBEL_DATA\")\n",
    "    cursor.callproc(\"PR_POPULATE_DAILY_FACT\")"
   ]
  },
  {
   "cell_type": "code",
   "execution_count": null,
   "metadata": {},
   "outputs": [],
   "source": []
  }
 ],
 "metadata": {
  "kernelspec": {
   "display_name": "Python 3",
   "language": "python",
   "name": "python3"
  },
  "language_info": {
   "codemirror_mode": {
    "name": "ipython",
    "version": 3
   },
   "file_extension": ".py",
   "mimetype": "text/x-python",
   "name": "python",
   "nbconvert_exporter": "python",
   "pygments_lexer": "ipython3",
   "version": "3.7.1"
  }
 },
 "nbformat": 4,
 "nbformat_minor": 2
}
